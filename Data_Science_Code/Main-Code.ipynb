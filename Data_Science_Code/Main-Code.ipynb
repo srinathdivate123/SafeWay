{
 "cells": [
  {
   "cell_type": "code",
   "execution_count": 6,
   "metadata": {},
   "outputs": [
    {
     "name": "stderr",
     "output_type": "stream",
     "text": [
      "C:\\Users\\srina\\AppData\\Local\\Temp\\ipykernel_14068\\3502058163.py:8: DtypeWarning: Columns (1) have mixed types. Specify dtype option on import or set low_memory=False.\n",
      "  d= pd.read_csv('maryland.csv')\n"
     ]
    }
   ],
   "source": [
    "from bs4 import BeautifulSoup\n",
    "import numpy as np\n",
    "import pandas as pd\n",
    "import seaborn as sns\n",
    "from matplotlib import pyplot as plt\n",
    "import requests\n",
    "import json\n",
    "d= pd.read_csv('maryland.csv') "
   ]
  },
  {
   "cell_type": "code",
   "execution_count": 7,
   "metadata": {},
   "outputs": [],
   "source": [
    "df = d[['ACRS Report Type','Crash Date/Time','Weather','Light','Injury_Severity','Vehicle_Damage_Extent','Speed_Limit']]\n",
    "df = df.dropna(axis=0)"
   ]
  },
  {
   "cell_type": "code",
   "execution_count": 8,
   "metadata": {},
   "outputs": [],
   "source": [
    "def Accident_Severity_Function(q):\n",
    "    if q == 'Property Damage Crash':\n",
    "        return 1\n",
    "    if q == 'Injury Crash':\n",
    "        return 2\n",
    "    if q == 'Fatal Crash':\n",
    "        return 3"
   ]
  },
  {
   "cell_type": "code",
   "execution_count": 9,
   "metadata": {},
   "outputs": [
    {
     "data": {
      "text/html": [
       "<div>\n",
       "<style scoped>\n",
       "    .dataframe tbody tr th:only-of-type {\n",
       "        vertical-align: middle;\n",
       "    }\n",
       "\n",
       "    .dataframe tbody tr th {\n",
       "        vertical-align: top;\n",
       "    }\n",
       "\n",
       "    .dataframe thead th {\n",
       "        text-align: right;\n",
       "    }\n",
       "</style>\n",
       "<table border=\"1\" class=\"dataframe\">\n",
       "  <thead>\n",
       "    <tr style=\"text-align: right;\">\n",
       "      <th></th>\n",
       "      <th>Crash Date/Time</th>\n",
       "      <th>Weather</th>\n",
       "      <th>Light</th>\n",
       "      <th>Injury Severity</th>\n",
       "      <th>Vehicle Damage Extent</th>\n",
       "      <th>Speed Limit</th>\n",
       "      <th>Accident_Severity</th>\n",
       "    </tr>\n",
       "  </thead>\n",
       "  <tbody>\n",
       "    <tr>\n",
       "      <th>0</th>\n",
       "      <td>09/26/2019 07:20:00 AM</td>\n",
       "      <td>CLEAR</td>\n",
       "      <td>DAYLIGHT</td>\n",
       "      <td>NO APPARENT INJURY</td>\n",
       "      <td>SUPERFICIAL</td>\n",
       "      <td>15</td>\n",
       "      <td>1</td>\n",
       "    </tr>\n",
       "    <tr>\n",
       "      <th>1</th>\n",
       "      <td>06/18/2020 02:00:00 AM</td>\n",
       "      <td>CLOUDY</td>\n",
       "      <td>UNKNOWN</td>\n",
       "      <td>NO APPARENT INJURY</td>\n",
       "      <td>UNKNOWN</td>\n",
       "      <td>35</td>\n",
       "      <td>1</td>\n",
       "    </tr>\n",
       "    <tr>\n",
       "      <th>2</th>\n",
       "      <td>09-08-2021 12:30</td>\n",
       "      <td>CLEAR</td>\n",
       "      <td>DAYLIGHT</td>\n",
       "      <td>NO APPARENT INJURY</td>\n",
       "      <td>SUPERFICIAL</td>\n",
       "      <td>0</td>\n",
       "      <td>1</td>\n",
       "    </tr>\n",
       "    <tr>\n",
       "      <th>3</th>\n",
       "      <td>04/19/2020 03:39:00 PM</td>\n",
       "      <td>CLEAR</td>\n",
       "      <td>DAYLIGHT</td>\n",
       "      <td>NO APPARENT INJURY</td>\n",
       "      <td>DISABLING</td>\n",
       "      <td>25</td>\n",
       "      <td>1</td>\n",
       "    </tr>\n",
       "    <tr>\n",
       "      <th>4</th>\n",
       "      <td>04/20/2020 09:15:00 AM</td>\n",
       "      <td>CLOUDY</td>\n",
       "      <td>DAYLIGHT</td>\n",
       "      <td>POSSIBLE INJURY</td>\n",
       "      <td>DISABLING</td>\n",
       "      <td>25</td>\n",
       "      <td>2</td>\n",
       "    </tr>\n",
       "  </tbody>\n",
       "</table>\n",
       "</div>"
      ],
      "text/plain": [
       "          Crash Date/Time Weather     Light     Injury Severity  \\\n",
       "0  09/26/2019 07:20:00 AM   CLEAR  DAYLIGHT  NO APPARENT INJURY   \n",
       "1  06/18/2020 02:00:00 AM  CLOUDY   UNKNOWN  NO APPARENT INJURY   \n",
       "2        09-08-2021 12:30   CLEAR  DAYLIGHT  NO APPARENT INJURY   \n",
       "3  04/19/2020 03:39:00 PM   CLEAR  DAYLIGHT  NO APPARENT INJURY   \n",
       "4  04/20/2020 09:15:00 AM  CLOUDY  DAYLIGHT     POSSIBLE INJURY   \n",
       "\n",
       "  Vehicle Damage Extent  Speed Limit  Accident_Severity  \n",
       "0           SUPERFICIAL           15                  1  \n",
       "1               UNKNOWN           35                  1  \n",
       "2           SUPERFICIAL            0                  1  \n",
       "3             DISABLING           25                  1  \n",
       "4             DISABLING           25                  2  "
      ]
     },
     "execution_count": 9,
     "metadata": {},
     "output_type": "execute_result"
    }
   ],
   "source": [
    "df['Accident_Severity'] = df['ACRS Report Type'].apply(Accident_Severity_Function)\n",
    "df = df.drop(columns=['ACRS Report Type'])\n",
    "df.head()"
   ]
  },
  {
   "cell_type": "code",
   "execution_count": 11,
   "metadata": {},
   "outputs": [
    {
     "data": {
      "text/plain": [
       "<Axes: >"
      ]
     },
     "execution_count": 11,
     "metadata": {},
     "output_type": "execute_result"
    },
    {
     "data": {
      "image/png": "[encoded data removed]",
      "text/plain": [
       "<Figure size 640x480 with 1 Axes>"
      ]
     },
     "metadata": {},
     "output_type": "display_data"
    }
   ],
   "source": [
    "df['Accident_Severity'].value_counts().plot(kind='bar')"
   ]
  },
  {
   "cell_type": "code",
   "execution_count": 13,
   "metadata": {},
   "outputs": [],
   "source": [
    "def dateWithDashFunction(q):\n",
    "    q = str(q)\n",
    "    q = q[:10]\n",
    "    q = q.replace(\"/\", \"-\")\n",
    "    return q\n",
    "df['DateDash'] = df['Crash Date/Time'].apply(dateWithDashFunction)"
   ]
  },
  {
   "cell_type": "code",
   "execution_count": 14,
   "metadata": {},
   "outputs": [],
   "source": [
    "from datetime import datetime\n",
    "def isWeekend(q):\n",
    "    month = q[:2]\n",
    "    day = q[3:5]\n",
    "    year = q[8:]\n",
    "    date = month+'-'+day+'-'+year\n",
    "    datetime_object = datetime.strptime(date, '%m-%d-%y')\n",
    "    if datetime_object.weekday() == 5 or datetime_object.weekday() == 6:\n",
    "        return 1\n",
    "    else:\n",
    "        return 0\n",
    "df['isWeekend'] = df['DateDash'].apply(isWeekend)"
   ]
  },
  {
   "cell_type": "code",
   "execution_count": 27,
   "metadata": {},
   "outputs": [
    {
     "name": "stdout",
     "output_type": "stream",
     "text": [
      "150.0787037037037\n",
      "216.49805447470817\n",
      "Crash Date/Time          143697\n",
      "Weather                  143697\n",
      "Light                    143697\n",
      "Injury Severity          143697\n",
      "Vehicle Damage Extent    143697\n",
      "Speed Limit              143697\n",
      "Accident_Severity        143697\n",
      "DateDash                 143697\n",
      "isWeekend                143697\n",
      "dtype: int64\n"
     ]
    }
   ],
   "source": [
    "weekendRatio = df['isWeekend'].sum()/216\n",
    "print(weekendRatio)\n",
    "weekdayRatio = (143697 - int(df['isWeekend'].sum()))/514\n",
    "print(weekdayRatio)\n",
    "print(df.count())"
   ]
  },
  {
   "cell_type": "code",
   "execution_count": 86,
   "metadata": {},
   "outputs": [
    {
     "data": {
      "text/plain": [
       "<Axes: >"
      ]
     },
     "execution_count": 86,
     "metadata": {},
     "output_type": "execute_result"
    },
    {
     "data": {
      "image/png": "[encoded data removed]",
      "text/plain": [
       "<Figure size 640x480 with 1 Axes>"
      ]
     },
     "metadata": {},
     "output_type": "display_data"
    }
   ],
   "source": [
    "df['isWeekend'].value_counts().plot(kind='bar')"
   ]
  },
  {
   "cell_type": "code",
   "execution_count": 87,
   "metadata": {},
   "outputs": [],
   "source": [
    "def timeFunction(q):\n",
    "    if 'AM' in q:\n",
    "        q = q[11:16]\n",
    "        q = q.replace(\":\", \"\")\n",
    "        hour = q[:2]\n",
    "        if hour == '12':\n",
    "            firstDigit = '0'\n",
    "            secondDigit = '0'\n",
    "            d1 = firstDigit\n",
    "            d2 = secondDigit\n",
    "            d3 = q[2]\n",
    "            d4 = q[3]\n",
    "            final = d1+d2+d3+d4\n",
    "            return int(final)\n",
    "    elif 'PM' in q:\n",
    "        q = q[11:16]\n",
    "        q = q.replace(\":\", \"\")\n",
    "        hour = q[:2]\n",
    "        if hour != '12':            \n",
    "            hour = int(hour)\n",
    "            hour = hour + 12\n",
    "        firstDigit = str(hour)[0]\n",
    "        secondDigit = str(hour)[1]\n",
    "        d1 = firstDigit\n",
    "        d2 = secondDigit\n",
    "        d3 = q[2]\n",
    "        d4 = q[3]\n",
    "        final = d1+d2+d3+d4\n",
    "        return int(final)\n",
    "    else:\n",
    "        q = q[11:16]\n",
    "        q = q.replace(\":\", \"\")\n",
    "    return int(q)"
   ]
  },
  {
   "cell_type": "code",
   "execution_count": 88,
   "metadata": {},
   "outputs": [],
   "source": [
    "df['Time'] = df['Crash Date/Time'].apply(timeFunction)"
   ]
  },
  {
   "cell_type": "code",
   "execution_count": 89,
   "metadata": {},
   "outputs": [],
   "source": [
    "def timeClassFunc1(val):\n",
    "    if float(val) >= 0 and float(val) <= 100:\n",
    "        return 1\n",
    "    if float(val) >= 100 and float(val) <= 200:\n",
    "        return 2\n",
    "    if float(val) >= 200 and float(val) <= 300:\n",
    "        return 3\n",
    "    if float(val) >= 300 and float(val) <= 400:\n",
    "        return 4\n",
    "    if float(val) >= 400 and float(val) <= 500:\n",
    "        return 5\n",
    "    if float(val) >= 500 and float(val) <= 600:\n",
    "        return 6\n",
    "    if float(val) >= 600 and float(val) <= 700:\n",
    "        return 7\n",
    "    if float(val) >= 700 and float(val) <= 800:\n",
    "        return 8\n",
    "    if float(val) >= 800 and float(val) <= 900:\n",
    "        return 9\n",
    "    if float(val) >= 900 and float(val) <= 1000:\n",
    "        return 10\n",
    "    if float(val) >= 1000 and float(val) <= 1100:\n",
    "        return 11\n",
    "    if float(val) >= 1100 and float(val) <= 1200:\n",
    "        return 12\n",
    "    if float(val) >= 1200 and float(val) <= 1300:\n",
    "        return 13\n",
    "    if float(val) >= 1300 and float(val) <= 1400:\n",
    "        return 14\n",
    "    if float(val) >= 1400 and float(val) <= 1500:\n",
    "        return 15\n",
    "    if float(val) >= 1500 and float(val) <= 1600:\n",
    "        return 16\n",
    "    if float(val) >= 1600 and float(val) <= 1700:\n",
    "        return 17\n",
    "    if float(val) >= 1700 and float(val) <= 1800:\n",
    "        return 18\n",
    "    if float(val) >= 1800 and float(val) <= 1900:\n",
    "        return 19\n",
    "    if float(val) >= 1900 and float(val) <= 2000:\n",
    "        return 20\n",
    "    if float(val) >= 2000 and float(val) <= 2100:\n",
    "        return 21\n",
    "    if float(val) >= 2100 and float(val) <= 2200:\n",
    "        return 22\n",
    "    if float(val) >= 2200 and float(val) <= 2300:\n",
    "        return 23\n",
    "    if float(val) >= 2300 and float(val) <= 2359:\n",
    "        return 24\n",
    "\n",
    "\n",
    "\n",
    "def timeClassFunc2(val):\n",
    "    if float(val) >= 0 and float(val) <= 200:\n",
    "        return 1\n",
    "    if float(val) >= 200 and float(val) <= 400:\n",
    "        return 2\n",
    "    if float(val) >= 400 and float(val) <= 600:\n",
    "        return 3\n",
    "    if float(val) >= 600 and float(val) <= 800:\n",
    "        return 4\n",
    "    if float(val) >= 800 and float(val) <= 1000:\n",
    "        return 5\n",
    "    if float(val) >= 1000 and float(val) <= 1200:\n",
    "        return 6\n",
    "    if float(val) >= 1200 and float(val) <= 1400:\n",
    "        return 7\n",
    "    if float(val) >= 1400 and float(val) <= 1600:\n",
    "        return 8\n",
    "    if float(val) >= 1600 and float(val) <= 1800:\n",
    "        return 9\n",
    "    if float(val) >= 1800 and float(val) <= 2000:\n",
    "        return 10\n",
    "    if float(val) >= 2000 and float(val) <= 2200:\n",
    "        return 11\n",
    "    if float(val) >= 2200 and float(val) <= 2359:\n",
    "        return 12\n",
    "\n",
    "\n",
    "\n",
    "def timeClassFunc3(val):\n",
    "    if float(val) >= 0 and float(val) <= 300:\n",
    "        return 1\n",
    "    if float(val) >= 300 and float(val) <= 600:\n",
    "        return 2\n",
    "    if float(val) >= 600 and float(val) <= 900:\n",
    "        return 3\n",
    "    if float(val) >= 900 and float(val) <= 1200:\n",
    "        return 4\n",
    "    if float(val) >= 1200 and float(val) <= 1500:\n",
    "        return 5\n",
    "    if float(val) >= 1500 and float(val) <= 1800:\n",
    "        return 6\n",
    "    if float(val) >= 1800 and float(val) <= 2100:\n",
    "        return 7\n",
    "    if float(val) >= 2100 and float(val) <= 2359:\n",
    "        return 8"
   ]
  },
  {
   "cell_type": "code",
   "execution_count": 90,
   "metadata": {},
   "outputs": [],
   "source": [
    "df['Time_Class'] = df['Time'].apply(timeClassFunc1)"
   ]
  },
  {
   "cell_type": "markdown",
   "metadata": {},
   "source": []
  },
  {
   "cell_type": "code",
   "execution_count": 91,
   "metadata": {},
   "outputs": [
    {
     "data": {
      "text/plain": [
       "<Axes: >"
      ]
     },
     "execution_count": 91,
     "metadata": {},
     "output_type": "execute_result"
    },
    {
     "data": {
      "image/png": "[encoded data removed]",
      "text/plain": [
       "<Figure size 640x480 with 1 Axes>"
      ]
     },
     "metadata": {},
     "output_type": "display_data"
    }
   ],
   "source": [
    "df['Time_Class'].value_counts().plot(kind='bar')"
   ]
  },
  {
   "cell_type": "code",
   "execution_count": 92,
   "metadata": {},
   "outputs": [],
   "source": [
    "def weatherFunction(val):\n",
    "    if val == 'OTHER' or val == 'UNKNOWN' or val == 'N/A':\n",
    "        return 1\n",
    "    if val == 'BLOWING SAND, SOIL, DIRT' or val == 'SEVERE WINDS' or val == 'BLOWING SNOW':\n",
    "        return 2\n",
    "    if val == 'CLEAR':\n",
    "        return 3\n",
    "    if val == 'CLOUDY' or val == 'FOGGY':\n",
    "        return 4\n",
    "    if val == 'RAINING':\n",
    "        return 5\n",
    "    if val == 'SNOW' or val == 'WINTRY MIX' or val == 'SLEET':\n",
    "        return 6"
   ]
  },
  {
   "cell_type": "code",
   "execution_count": 93,
   "metadata": {},
   "outputs": [],
   "source": [
    "df['Weather'] = df['Weather'].apply(weatherFunction)"
   ]
  },
  {
   "cell_type": "code",
   "execution_count": 94,
   "metadata": {},
   "outputs": [],
   "source": [
    "def WeatherRemoveNullValues(val):\n",
    "    if val != 1 and val !=2 and val != 3 and val!=4 and val!=5 and val!=6:\n",
    "        return 7\n",
    "    else:\n",
    "        return val"
   ]
  },
  {
   "cell_type": "code",
   "execution_count": 95,
   "metadata": {},
   "outputs": [],
   "source": [
    "df['Weather'] = df['Weather'].apply(WeatherRemoveNullValues)"
   ]
  },
  {
   "cell_type": "code",
   "execution_count": 96,
   "metadata": {},
   "outputs": [
    {
     "data": {
      "text/plain": [
       "<Axes: >"
      ]
     },
     "execution_count": 96,
     "metadata": {},
     "output_type": "execute_result"
    },
    {
     "data": {
      "image/png": "[encoded data removed]",
      "text/plain": [
       "<Figure size 640x480 with 1 Axes>"
      ]
     },
     "metadata": {},
     "output_type": "display_data"
    }
   ],
   "source": [
    "df['Weather'].value_counts().plot(kind='bar')"
   ]
  },
  {
   "cell_type": "code",
   "execution_count": 97,
   "metadata": {},
   "outputs": [],
   "source": [
    "def lightFunction(val):\n",
    "    if val == 'OTHER' or val == r'N/A' or val == 'UNKNOWN' :\n",
    "        return 1\n",
    "    elif val == 'DARK -- UNKNOWN LIGHTING' or val == 'DARK LIGHTS ON' or val == 'DARK NO LIGHTS':\n",
    "        return 2\n",
    "    elif val == 'DAWN' or val =='DUSK':\n",
    "        return 3\n",
    "    elif val == 'DAYLIGHT':\n",
    "        return 4"
   ]
  },
  {
   "cell_type": "code",
   "execution_count": 98,
   "metadata": {},
   "outputs": [],
   "source": [
    "df['Light'] = df['Light'].apply(lightFunction)"
   ]
  },
  {
   "cell_type": "code",
   "execution_count": 99,
   "metadata": {},
   "outputs": [],
   "source": [
    "def isHoliday(q):\n",
    "    holidays = [\n",
    "                '01-01-2019',\n",
    "                '01-21-2019',\n",
    "                '02-14-2019',\n",
    "                '02-18-2019',\n",
    "                '03-17-2019',\n",
    "                '04-15-2019',\n",
    "                '04-21-2019',\n",
    "                '04-24-2019',\n",
    "                '05-12-2019',\n",
    "                '05-27-2019',\n",
    "                '06-16-2019',\n",
    "                '07-04-2019',\n",
    "                '09-02-2019',\n",
    "                '10-14-2019',\n",
    "                '10-31-2019',\n",
    "                '11-11-2019',\n",
    "                '11-28-2019',\n",
    "                '11-29-2019',\n",
    "                '12-24-2019',\n",
    "                '12-25-2019',\n",
    "                '12-31-2019',\n",
    "                '01-01-2020',\n",
    "                '01-20-2020',\n",
    "                '02-14-2020',\n",
    "                '02-17-2020',\n",
    "                '03-17-2020',\n",
    "                '04-12-2020',\n",
    "                '04-15-2020',\n",
    "                '04-22-2020',\n",
    "                '05-10-2020',\n",
    "                '05-25-2020',\n",
    "                '06-21-2020',\n",
    "                '07-03-2020',\n",
    "                '07-04-2020',\n",
    "                '09-07-2020',\n",
    "                '10-12-2020',\n",
    "                '10-31-2020',\n",
    "                '11-03-2020',\n",
    "                '11-11-2020',\n",
    "                '11-26-2020',\n",
    "                '11-27-2020',\n",
    "                '12-24-2020',\n",
    "                '12-25-2020',\n",
    "                '12-31-2020'\n",
    "                ]\n",
    "    if q in holidays:\n",
    "        return 1\n",
    "    else:\n",
    "        return 0"
   ]
  },
  {
   "cell_type": "code",
   "execution_count": 100,
   "metadata": {},
   "outputs": [],
   "source": [
    "df['isHoliday'] = df['DateDash'].apply(isHoliday)"
   ]
  },
  {
   "cell_type": "code",
   "execution_count": 101,
   "metadata": {},
   "outputs": [
    {
     "data": {
      "text/plain": [
       "<Axes: >"
      ]
     },
     "execution_count": 101,
     "metadata": {},
     "output_type": "execute_result"
    },
    {
     "data": {
      "image/png": "[encoded data removed]",
      "text/plain": [
       "<Figure size 640x480 with 1 Axes>"
      ]
     },
     "metadata": {},
     "output_type": "display_data"
    }
   ],
   "source": [
    "df['isHoliday'].value_counts().plot(kind='bar')"
   ]
  },
  {
   "cell_type": "code",
   "execution_count": 102,
   "metadata": {},
   "outputs": [],
   "source": [
    "def elevationFunc(latitude, longitude):\n",
    "    base_link = 'https://api.weather.gov/points/'+str(latitude)+','+str(longitude)\n",
    "    while(True):\n",
    "        base_link_response = requests.get(base_link)\n",
    "        print('ran 1st')\n",
    "        if base_link_response.status_code != 500:\n",
    "            break\n",
    "    json_base_link_response = json.loads(base_link_response.text)\n",
    "    while(True):\n",
    "        main_link_response = requests.get((json_base_link_response['properties'])['forecastHourly'])\n",
    "        print('ran 2nd')\n",
    "        if main_link_response.status_code != 500:\n",
    "            break\n",
    "    json_main_link_response = json.loads(main_link_response.text)\n",
    "    return ((json_main_link_response['properties'])['elevation'])['value']\n"
   ]
  },
  {
   "cell_type": "code",
   "execution_count": 103,
   "metadata": {},
   "outputs": [],
   "source": [
    "def InjurySeverityFunc(q):\n",
    "    if q == 'NO APPARENT INJURY':\n",
    "        return 1\n",
    "    if q == 'SUSPECTED MINOR INJURY':\n",
    "        return 2\n",
    "    if q == 'POSSIBLE INJURY':\n",
    "        return 3\n",
    "    if q == 'SUSPECTED SERIOUS INJURY':\n",
    "        return 4\n",
    "    if q == 'FATAL INJURY':\n",
    "        return 5\n",
    "    \n",
    "df['Injury Severity'] = df['Injury Severity'].apply(InjurySeverityFunc)"
   ]
  },
  {
   "cell_type": "code",
   "execution_count": 104,
   "metadata": {},
   "outputs": [
    {
     "data": {
      "text/plain": [
       "<Axes: >"
      ]
     },
     "execution_count": 104,
     "metadata": {},
     "output_type": "execute_result"
    },
    {
     "data": {
      "image/png": "[encoded data removed]",
      "text/plain": [
       "<Figure size 640x480 with 1 Axes>"
      ]
     },
     "metadata": {},
     "output_type": "display_data"
    }
   ],
   "source": [
    "df['Injury Severity'].value_counts().plot(kind='bar')"
   ]
  },
  {
   "cell_type": "code",
   "execution_count": 105,
   "metadata": {},
   "outputs": [],
   "source": [
    "def VehicleDamageExtentFunc(q):\n",
    "    if q == 'NO DAMAGE' or q == r'N/A' or q == 'UNKNOWN' or q == 'OTHER':\n",
    "        return 1\n",
    "    if q == 'FUNCTIONAL':\n",
    "        return 2\n",
    "    if q == 'SUPERFICIAL':\n",
    "        return 3\n",
    "    if q == 'DISABLING':\n",
    "        return 4\n",
    "    if q == 'DESTROYED':\n",
    "        return 5\n",
    "    \n",
    "df['Vehicle Damage Extent'] = df['Vehicle Damage Extent'].apply(VehicleDamageExtentFunc)"
   ]
  },
  {
   "cell_type": "code",
   "execution_count": 106,
   "metadata": {},
   "outputs": [
    {
     "data": {
      "text/plain": [
       "<Axes: >"
      ]
     },
     "execution_count": 106,
     "metadata": {},
     "output_type": "execute_result"
    },
    {
     "data": {
      "image/png": "[encoded data removed]",
      "text/plain": [
       "<Figure size 640x480 with 1 Axes>"
      ]
     },
     "metadata": {},
     "output_type": "display_data"
    }
   ],
   "source": [
    "df['Vehicle Damage Extent'].value_counts().plot(kind='bar')"
   ]
  },
  {
   "cell_type": "code",
   "execution_count": 127,
   "metadata": {},
   "outputs": [],
   "source": [
    "df['Severe'] = (df['Injury Severity'] + df['Vehicle Damage Extent'])//2"
   ]
  },
  {
   "cell_type": "code",
   "execution_count": 148,
   "metadata": {},
   "outputs": [],
   "source": [
    "f = df.drop(columns=['Crash Date/Time',\n",
    "                 'Traffic Control',\n",
    "                 'Driver Substance Abuse',\n",
    "                 'Non-Motorist Substance Abuse',\n",
    "                 'Driver At Fault',\n",
    "                 'Circumstance',\n",
    "                 'Driver Distracted By',\n",
    "                 'Drivers License State',\n",
    "                 'Vehicle Body Type',\n",
    "                 'Vehicle Continuing Dir',\n",
    "                 'Vehicle Going Dir',\n",
    "                 'Parked Vehicle',\n",
    "                 'Vehicle Year',\n",
    "                 'Vehicle Make',\n",
    "                 'DateDash',\n",
    "                 'Injury Severity',\n",
    "                 'Vehicle Damage Extent',\n",
    "                 'Severe',\n",
    "                #  'Latitude',\n",
    "                #  'Longitude'\n",
    "                 ])"
   ]
  },
  {
   "cell_type": "code",
   "execution_count": 149,
   "metadata": {},
   "outputs": [],
   "source": [
    "ddf = f.dropna(axis=0)"
   ]
  },
  {
   "cell_type": "code",
   "execution_count": 150,
   "metadata": {},
   "outputs": [
    {
     "data": {
      "text/html": [
       "<div>\n",
       "<style scoped>\n",
       "    .dataframe tbody tr th:only-of-type {\n",
       "        vertical-align: middle;\n",
       "    }\n",
       "\n",
       "    .dataframe tbody tr th {\n",
       "        vertical-align: top;\n",
       "    }\n",
       "\n",
       "    .dataframe thead th {\n",
       "        text-align: right;\n",
       "    }\n",
       "</style>\n",
       "<table border=\"1\" class=\"dataframe\">\n",
       "  <thead>\n",
       "    <tr style=\"text-align: right;\">\n",
       "      <th></th>\n",
       "      <th>ACRS Report Type</th>\n",
       "      <th>Weather</th>\n",
       "      <th>Light</th>\n",
       "      <th>Speed Limit</th>\n",
       "      <th>Latitude</th>\n",
       "      <th>Longitude</th>\n",
       "      <th>isWeekend</th>\n",
       "      <th>Time</th>\n",
       "      <th>Time_Class</th>\n",
       "      <th>isHoliday</th>\n",
       "    </tr>\n",
       "  </thead>\n",
       "  <tbody>\n",
       "    <tr>\n",
       "      <th>0</th>\n",
       "      <td>1</td>\n",
       "      <td>3.0</td>\n",
       "      <td>4.0</td>\n",
       "      <td>15</td>\n",
       "      <td>39.103518</td>\n",
       "      <td>-77.157669</td>\n",
       "      <td>0</td>\n",
       "      <td>720</td>\n",
       "      <td>8</td>\n",
       "      <td>0</td>\n",
       "    </tr>\n",
       "    <tr>\n",
       "      <th>1</th>\n",
       "      <td>1</td>\n",
       "      <td>4.0</td>\n",
       "      <td>1.0</td>\n",
       "      <td>35</td>\n",
       "      <td>39.154847</td>\n",
       "      <td>-77.271245</td>\n",
       "      <td>0</td>\n",
       "      <td>200</td>\n",
       "      <td>2</td>\n",
       "      <td>0</td>\n",
       "    </tr>\n",
       "    <tr>\n",
       "      <th>2</th>\n",
       "      <td>1</td>\n",
       "      <td>3.0</td>\n",
       "      <td>4.0</td>\n",
       "      <td>0</td>\n",
       "      <td>39.020303</td>\n",
       "      <td>-77.011436</td>\n",
       "      <td>0</td>\n",
       "      <td>1230</td>\n",
       "      <td>13</td>\n",
       "      <td>0</td>\n",
       "    </tr>\n",
       "    <tr>\n",
       "      <th>3</th>\n",
       "      <td>1</td>\n",
       "      <td>3.0</td>\n",
       "      <td>4.0</td>\n",
       "      <td>25</td>\n",
       "      <td>39.080062</td>\n",
       "      <td>-77.097845</td>\n",
       "      <td>1</td>\n",
       "      <td>1539</td>\n",
       "      <td>16</td>\n",
       "      <td>0</td>\n",
       "    </tr>\n",
       "    <tr>\n",
       "      <th>4</th>\n",
       "      <td>2</td>\n",
       "      <td>4.0</td>\n",
       "      <td>4.0</td>\n",
       "      <td>25</td>\n",
       "      <td>39.175230</td>\n",
       "      <td>-77.241090</td>\n",
       "      <td>0</td>\n",
       "      <td>915</td>\n",
       "      <td>10</td>\n",
       "      <td>0</td>\n",
       "    </tr>\n",
       "  </tbody>\n",
       "</table>\n",
       "</div>"
      ],
      "text/plain": [
       "   ACRS Report Type  Weather  Light  Speed Limit   Latitude  Longitude  \\\n",
       "0                 1      3.0    4.0           15  39.103518 -77.157669   \n",
       "1                 1      4.0    1.0           35  39.154847 -77.271245   \n",
       "2                 1      3.0    4.0            0  39.020303 -77.011436   \n",
       "3                 1      3.0    4.0           25  39.080062 -77.097845   \n",
       "4                 2      4.0    4.0           25  39.175230 -77.241090   \n",
       "\n",
       "   isWeekend  Time  Time_Class  isHoliday  \n",
       "0          0   720           8          0  \n",
       "1          0   200           2          0  \n",
       "2          0  1230          13          0  \n",
       "3          1  1539          16          0  \n",
       "4          0   915          10          0  "
      ]
     },
     "execution_count": 150,
     "metadata": {},
     "output_type": "execute_result"
    }
   ],
   "source": [
    "f.head()"
   ]
  },
  {
   "cell_type": "code",
   "execution_count": 151,
   "metadata": {},
   "outputs": [],
   "source": [
    "from sklearn.model_selection import train_test_split\n",
    "X_train,X_test,y_train,y_test = train_test_split(ddf.iloc[:,1:].values,ddf.iloc[:,0].values,test_size=0.15,random_state=1)"
   ]
  },
  {
   "cell_type": "code",
   "execution_count": 152,
   "metadata": {},
   "outputs": [
    {
     "data": {
      "text/plain": [
       "0.8834544677212484"
      ]
     },
     "execution_count": 152,
     "metadata": {},
     "output_type": "execute_result"
    }
   ],
   "source": [
    "from sklearn.ensemble import RandomForestClassifier\n",
    "from sklearn.metrics import accuracy_score\n",
    "RandomForestClassifier().fit(X_train,y_train)\n",
    "y_pred = RandomForestClassifier().predict(X_test)\n",
    "accuracy_score(y_test,y_pred)"
   ]
  }
 ],
 "metadata": {
  "kernelspec": {
   "display_name": "Python 3",
   "language": "python",
   "name": "python3"
  },
  "language_info": {
   "codemirror_mode": {
    "name": "ipython",
    "version": 3
   },
   "file_extension": ".py",
   "mimetype": "text/x-python",
   "name": "python",
   "nbconvert_exporter": "python",
   "pygments_lexer": "ipython3",
   "version": "3.10.1"
  },
  "orig_nbformat": 4
 },
 "nbformat": 4,
 "nbformat_minor": 2
}
